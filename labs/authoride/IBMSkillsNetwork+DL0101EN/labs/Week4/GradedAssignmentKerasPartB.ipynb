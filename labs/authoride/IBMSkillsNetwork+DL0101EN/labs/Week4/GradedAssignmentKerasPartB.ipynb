{
 "cells": [
  {
   "cell_type": "markdown",
   "id": "cb7c16e7-f610-46e2-a61a-e3952e9aac6a",
   "metadata": {
    "tags": []
   },
   "source": [
    "# Peer-graded Assignment: Build a Regression Model in Keras"
   ]
  },
  {
   "cell_type": "markdown",
   "id": "a51a77f3-8e02-4f79-8ae8-f587f49d1f88",
   "metadata": {
    "tags": []
   },
   "source": [
    "## Part A - Build a baseline model \n"
   ]
  },
  {
   "cell_type": "markdown",
   "id": "9a5e8e1e-ac59-4b1f-8905-dbe4332c69fe",
   "metadata": {},
   "source": [
    "Setup and importing librararies"
   ]
  },
  {
   "cell_type": "code",
   "execution_count": 1,
   "id": "3b94f8b7-d3d3-4c49-89a7-2519c89f8898",
   "metadata": {
    "tags": []
   },
   "outputs": [
    {
     "name": "stdout",
     "output_type": "stream",
     "text": [
      "Requirement already satisfied: numpy==1.21.4 in /home/jupyterlab/conda/envs/python/lib/python3.7/site-packages (1.21.4)\n",
      "Requirement already satisfied: pandas==1.3.4 in /home/jupyterlab/conda/envs/python/lib/python3.7/site-packages (1.3.4)\n",
      "Requirement already satisfied: python-dateutil>=2.7.3 in /home/jupyterlab/conda/envs/python/lib/python3.7/site-packages (from pandas==1.3.4) (2.8.2)\n",
      "Requirement already satisfied: pytz>=2017.3 in /home/jupyterlab/conda/envs/python/lib/python3.7/site-packages (from pandas==1.3.4) (2023.3)\n",
      "Requirement already satisfied: numpy>=1.17.3 in /home/jupyterlab/conda/envs/python/lib/python3.7/site-packages (from pandas==1.3.4) (1.21.4)\n",
      "Requirement already satisfied: six>=1.5 in /home/jupyterlab/conda/envs/python/lib/python3.7/site-packages (from python-dateutil>=2.7.3->pandas==1.3.4) (1.16.0)\n",
      "Requirement already satisfied: keras==2.1.6 in /home/jupyterlab/conda/envs/python/lib/python3.7/site-packages (2.1.6)\n",
      "Requirement already satisfied: numpy>=1.9.1 in /home/jupyterlab/conda/envs/python/lib/python3.7/site-packages (from keras==2.1.6) (1.21.4)\n",
      "Requirement already satisfied: scipy>=0.14 in /home/jupyterlab/conda/envs/python/lib/python3.7/site-packages (from keras==2.1.6) (1.7.3)\n",
      "Requirement already satisfied: six>=1.9.0 in /home/jupyterlab/conda/envs/python/lib/python3.7/site-packages (from keras==2.1.6) (1.16.0)\n",
      "Requirement already satisfied: pyyaml in /home/jupyterlab/conda/envs/python/lib/python3.7/site-packages (from keras==2.1.6) (6.0)\n",
      "Requirement already satisfied: h5py in /home/jupyterlab/conda/envs/python/lib/python3.7/site-packages (from keras==2.1.6) (2.8.0)\n"
     ]
    }
   ],
   "source": [
    "!pip install numpy==1.21.4\n",
    "!pip install pandas==1.3.4\n",
    "!pip install keras==2.1.6"
   ]
  },
  {
   "cell_type": "code",
   "execution_count": 2,
   "id": "69ad44e3-3a92-44ec-8b82-37b7cbb02081",
   "metadata": {
    "tags": []
   },
   "outputs": [
    {
     "name": "stderr",
     "output_type": "stream",
     "text": [
      "Using TensorFlow backend.\n",
      "/home/jupyterlab/conda/envs/python/lib/python3.7/site-packages/tensorflow/python/framework/dtypes.py:516: FutureWarning: Passing (type, 1) or '1type' as a synonym of type is deprecated; in a future version of numpy, it will be understood as (type, (1,)) / '(1,)type'.\n",
      "  _np_qint8 = np.dtype([(\"qint8\", np.int8, 1)])\n",
      "/home/jupyterlab/conda/envs/python/lib/python3.7/site-packages/tensorflow/python/framework/dtypes.py:517: FutureWarning: Passing (type, 1) or '1type' as a synonym of type is deprecated; in a future version of numpy, it will be understood as (type, (1,)) / '(1,)type'.\n",
      "  _np_quint8 = np.dtype([(\"quint8\", np.uint8, 1)])\n",
      "/home/jupyterlab/conda/envs/python/lib/python3.7/site-packages/tensorflow/python/framework/dtypes.py:518: FutureWarning: Passing (type, 1) or '1type' as a synonym of type is deprecated; in a future version of numpy, it will be understood as (type, (1,)) / '(1,)type'.\n",
      "  _np_qint16 = np.dtype([(\"qint16\", np.int16, 1)])\n",
      "/home/jupyterlab/conda/envs/python/lib/python3.7/site-packages/tensorflow/python/framework/dtypes.py:519: FutureWarning: Passing (type, 1) or '1type' as a synonym of type is deprecated; in a future version of numpy, it will be understood as (type, (1,)) / '(1,)type'.\n",
      "  _np_quint16 = np.dtype([(\"quint16\", np.uint16, 1)])\n",
      "/home/jupyterlab/conda/envs/python/lib/python3.7/site-packages/tensorflow/python/framework/dtypes.py:520: FutureWarning: Passing (type, 1) or '1type' as a synonym of type is deprecated; in a future version of numpy, it will be understood as (type, (1,)) / '(1,)type'.\n",
      "  _np_qint32 = np.dtype([(\"qint32\", np.int32, 1)])\n",
      "/home/jupyterlab/conda/envs/python/lib/python3.7/site-packages/tensorflow/python/framework/dtypes.py:525: FutureWarning: Passing (type, 1) or '1type' as a synonym of type is deprecated; in a future version of numpy, it will be understood as (type, (1,)) / '(1,)type'.\n",
      "  np_resource = np.dtype([(\"resource\", np.ubyte, 1)])\n",
      "/home/jupyterlab/conda/envs/python/lib/python3.7/site-packages/tensorboard/compat/tensorflow_stub/dtypes.py:541: FutureWarning: Passing (type, 1) or '1type' as a synonym of type is deprecated; in a future version of numpy, it will be understood as (type, (1,)) / '(1,)type'.\n",
      "  _np_qint8 = np.dtype([(\"qint8\", np.int8, 1)])\n",
      "/home/jupyterlab/conda/envs/python/lib/python3.7/site-packages/tensorboard/compat/tensorflow_stub/dtypes.py:542: FutureWarning: Passing (type, 1) or '1type' as a synonym of type is deprecated; in a future version of numpy, it will be understood as (type, (1,)) / '(1,)type'.\n",
      "  _np_quint8 = np.dtype([(\"quint8\", np.uint8, 1)])\n",
      "/home/jupyterlab/conda/envs/python/lib/python3.7/site-packages/tensorboard/compat/tensorflow_stub/dtypes.py:543: FutureWarning: Passing (type, 1) or '1type' as a synonym of type is deprecated; in a future version of numpy, it will be understood as (type, (1,)) / '(1,)type'.\n",
      "  _np_qint16 = np.dtype([(\"qint16\", np.int16, 1)])\n",
      "/home/jupyterlab/conda/envs/python/lib/python3.7/site-packages/tensorboard/compat/tensorflow_stub/dtypes.py:544: FutureWarning: Passing (type, 1) or '1type' as a synonym of type is deprecated; in a future version of numpy, it will be understood as (type, (1,)) / '(1,)type'.\n",
      "  _np_quint16 = np.dtype([(\"quint16\", np.uint16, 1)])\n",
      "/home/jupyterlab/conda/envs/python/lib/python3.7/site-packages/tensorboard/compat/tensorflow_stub/dtypes.py:545: FutureWarning: Passing (type, 1) or '1type' as a synonym of type is deprecated; in a future version of numpy, it will be understood as (type, (1,)) / '(1,)type'.\n",
      "  _np_qint32 = np.dtype([(\"qint32\", np.int32, 1)])\n",
      "/home/jupyterlab/conda/envs/python/lib/python3.7/site-packages/tensorboard/compat/tensorflow_stub/dtypes.py:550: FutureWarning: Passing (type, 1) or '1type' as a synonym of type is deprecated; in a future version of numpy, it will be understood as (type, (1,)) / '(1,)type'.\n",
      "  np_resource = np.dtype([(\"resource\", np.ubyte, 1)])\n",
      "/home/jupyterlab/conda/envs/python/lib/python3.7/site-packages/sklearn/utils/validation.py:37: DeprecationWarning: distutils Version classes are deprecated. Use packaging.version instead.\n",
      "  LARGE_SPARSE_SUPPORTED = LooseVersion(scipy_version) >= '0.14.0'\n"
     ]
    }
   ],
   "source": [
    "import pandas as pd\n",
    "import numpy as np\n",
    "import keras\n",
    "from sklearn.model_selection import train_test_split\n",
    "from sklearn.metrics import mean_squared_error\n",
    "from keras.models import Sequential\n",
    "from keras.layers import Dense"
   ]
  },
  {
   "cell_type": "markdown",
   "id": "89c73f7f-b32f-45bf-a00e-c5db64e0362f",
   "metadata": {},
   "source": [
    "### Download and clean the data"
   ]
  },
  {
   "cell_type": "code",
   "execution_count": 3,
   "id": "5c0cb40e-f0e6-44f8-b4bf-05b1c6be5239",
   "metadata": {
    "tags": []
   },
   "outputs": [
    {
     "data": {
      "text/html": [
       "<div>\n",
       "<style scoped>\n",
       "    .dataframe tbody tr th:only-of-type {\n",
       "        vertical-align: middle;\n",
       "    }\n",
       "\n",
       "    .dataframe tbody tr th {\n",
       "        vertical-align: top;\n",
       "    }\n",
       "\n",
       "    .dataframe thead th {\n",
       "        text-align: right;\n",
       "    }\n",
       "</style>\n",
       "<table border=\"1\" class=\"dataframe\">\n",
       "  <thead>\n",
       "    <tr style=\"text-align: right;\">\n",
       "      <th></th>\n",
       "      <th>Cement</th>\n",
       "      <th>Blast Furnace Slag</th>\n",
       "      <th>Fly Ash</th>\n",
       "      <th>Water</th>\n",
       "      <th>Superplasticizer</th>\n",
       "      <th>Coarse Aggregate</th>\n",
       "      <th>Fine Aggregate</th>\n",
       "      <th>Age</th>\n",
       "      <th>Strength</th>\n",
       "    </tr>\n",
       "  </thead>\n",
       "  <tbody>\n",
       "    <tr>\n",
       "      <th>0</th>\n",
       "      <td>540.0</td>\n",
       "      <td>0.0</td>\n",
       "      <td>0.0</td>\n",
       "      <td>162.0</td>\n",
       "      <td>2.5</td>\n",
       "      <td>1040.0</td>\n",
       "      <td>676.0</td>\n",
       "      <td>28</td>\n",
       "      <td>79.99</td>\n",
       "    </tr>\n",
       "    <tr>\n",
       "      <th>1</th>\n",
       "      <td>540.0</td>\n",
       "      <td>0.0</td>\n",
       "      <td>0.0</td>\n",
       "      <td>162.0</td>\n",
       "      <td>2.5</td>\n",
       "      <td>1055.0</td>\n",
       "      <td>676.0</td>\n",
       "      <td>28</td>\n",
       "      <td>61.89</td>\n",
       "    </tr>\n",
       "    <tr>\n",
       "      <th>2</th>\n",
       "      <td>332.5</td>\n",
       "      <td>142.5</td>\n",
       "      <td>0.0</td>\n",
       "      <td>228.0</td>\n",
       "      <td>0.0</td>\n",
       "      <td>932.0</td>\n",
       "      <td>594.0</td>\n",
       "      <td>270</td>\n",
       "      <td>40.27</td>\n",
       "    </tr>\n",
       "    <tr>\n",
       "      <th>3</th>\n",
       "      <td>332.5</td>\n",
       "      <td>142.5</td>\n",
       "      <td>0.0</td>\n",
       "      <td>228.0</td>\n",
       "      <td>0.0</td>\n",
       "      <td>932.0</td>\n",
       "      <td>594.0</td>\n",
       "      <td>365</td>\n",
       "      <td>41.05</td>\n",
       "    </tr>\n",
       "    <tr>\n",
       "      <th>4</th>\n",
       "      <td>198.6</td>\n",
       "      <td>132.4</td>\n",
       "      <td>0.0</td>\n",
       "      <td>192.0</td>\n",
       "      <td>0.0</td>\n",
       "      <td>978.4</td>\n",
       "      <td>825.5</td>\n",
       "      <td>360</td>\n",
       "      <td>44.30</td>\n",
       "    </tr>\n",
       "  </tbody>\n",
       "</table>\n",
       "</div>"
      ],
      "text/plain": [
       "   Cement  Blast Furnace Slag  Fly Ash  Water  Superplasticizer  \\\n",
       "0   540.0                 0.0      0.0  162.0               2.5   \n",
       "1   540.0                 0.0      0.0  162.0               2.5   \n",
       "2   332.5               142.5      0.0  228.0               0.0   \n",
       "3   332.5               142.5      0.0  228.0               0.0   \n",
       "4   198.6               132.4      0.0  192.0               0.0   \n",
       "\n",
       "   Coarse Aggregate  Fine Aggregate  Age  Strength  \n",
       "0            1040.0           676.0   28     79.99  \n",
       "1            1055.0           676.0   28     61.89  \n",
       "2             932.0           594.0  270     40.27  \n",
       "3             932.0           594.0  365     41.05  \n",
       "4             978.4           825.5  360     44.30  "
      ]
     },
     "execution_count": 3,
     "metadata": {},
     "output_type": "execute_result"
    }
   ],
   "source": [
    "data = pd.read_csv('https://cocl.us/concrete_data')\n",
    "data.head()"
   ]
  },
  {
   "cell_type": "markdown",
   "id": "74ee818d-ec14-493a-bcaf-fbdabe363e06",
   "metadata": {},
   "source": [
    "Number of records and number of columns:"
   ]
  },
  {
   "cell_type": "code",
   "execution_count": 4,
   "id": "927ca904-d599-48df-afed-b28c08e179d9",
   "metadata": {
    "tags": []
   },
   "outputs": [
    {
     "data": {
      "text/plain": [
       "(1030, 9)"
      ]
     },
     "execution_count": 4,
     "metadata": {},
     "output_type": "execute_result"
    }
   ],
   "source": [
    "data.shape"
   ]
  },
  {
   "cell_type": "markdown",
   "id": "df279413-2883-4f82-99bd-bf027407012c",
   "metadata": {},
   "source": [
    "Check and remove missing values"
   ]
  },
  {
   "cell_type": "code",
   "execution_count": 5,
   "id": "71455939-787b-4b5e-a7bd-df8b8754e0ee",
   "metadata": {
    "tags": []
   },
   "outputs": [
    {
     "data": {
      "text/html": [
       "<div>\n",
       "<style scoped>\n",
       "    .dataframe tbody tr th:only-of-type {\n",
       "        vertical-align: middle;\n",
       "    }\n",
       "\n",
       "    .dataframe tbody tr th {\n",
       "        vertical-align: top;\n",
       "    }\n",
       "\n",
       "    .dataframe thead th {\n",
       "        text-align: right;\n",
       "    }\n",
       "</style>\n",
       "<table border=\"1\" class=\"dataframe\">\n",
       "  <thead>\n",
       "    <tr style=\"text-align: right;\">\n",
       "      <th></th>\n",
       "      <th>Cement</th>\n",
       "      <th>Blast Furnace Slag</th>\n",
       "      <th>Fly Ash</th>\n",
       "      <th>Water</th>\n",
       "      <th>Superplasticizer</th>\n",
       "      <th>Coarse Aggregate</th>\n",
       "      <th>Fine Aggregate</th>\n",
       "      <th>Age</th>\n",
       "      <th>Strength</th>\n",
       "    </tr>\n",
       "  </thead>\n",
       "  <tbody>\n",
       "    <tr>\n",
       "      <th>count</th>\n",
       "      <td>1030.000000</td>\n",
       "      <td>1030.000000</td>\n",
       "      <td>1030.000000</td>\n",
       "      <td>1030.000000</td>\n",
       "      <td>1030.000000</td>\n",
       "      <td>1030.000000</td>\n",
       "      <td>1030.000000</td>\n",
       "      <td>1030.000000</td>\n",
       "      <td>1030.000000</td>\n",
       "    </tr>\n",
       "    <tr>\n",
       "      <th>mean</th>\n",
       "      <td>281.167864</td>\n",
       "      <td>73.895825</td>\n",
       "      <td>54.188350</td>\n",
       "      <td>181.567282</td>\n",
       "      <td>6.204660</td>\n",
       "      <td>972.918932</td>\n",
       "      <td>773.580485</td>\n",
       "      <td>45.662136</td>\n",
       "      <td>35.817961</td>\n",
       "    </tr>\n",
       "    <tr>\n",
       "      <th>std</th>\n",
       "      <td>104.506364</td>\n",
       "      <td>86.279342</td>\n",
       "      <td>63.997004</td>\n",
       "      <td>21.354219</td>\n",
       "      <td>5.973841</td>\n",
       "      <td>77.753954</td>\n",
       "      <td>80.175980</td>\n",
       "      <td>63.169912</td>\n",
       "      <td>16.705742</td>\n",
       "    </tr>\n",
       "    <tr>\n",
       "      <th>min</th>\n",
       "      <td>102.000000</td>\n",
       "      <td>0.000000</td>\n",
       "      <td>0.000000</td>\n",
       "      <td>121.800000</td>\n",
       "      <td>0.000000</td>\n",
       "      <td>801.000000</td>\n",
       "      <td>594.000000</td>\n",
       "      <td>1.000000</td>\n",
       "      <td>2.330000</td>\n",
       "    </tr>\n",
       "    <tr>\n",
       "      <th>25%</th>\n",
       "      <td>192.375000</td>\n",
       "      <td>0.000000</td>\n",
       "      <td>0.000000</td>\n",
       "      <td>164.900000</td>\n",
       "      <td>0.000000</td>\n",
       "      <td>932.000000</td>\n",
       "      <td>730.950000</td>\n",
       "      <td>7.000000</td>\n",
       "      <td>23.710000</td>\n",
       "    </tr>\n",
       "    <tr>\n",
       "      <th>50%</th>\n",
       "      <td>272.900000</td>\n",
       "      <td>22.000000</td>\n",
       "      <td>0.000000</td>\n",
       "      <td>185.000000</td>\n",
       "      <td>6.400000</td>\n",
       "      <td>968.000000</td>\n",
       "      <td>779.500000</td>\n",
       "      <td>28.000000</td>\n",
       "      <td>34.445000</td>\n",
       "    </tr>\n",
       "    <tr>\n",
       "      <th>75%</th>\n",
       "      <td>350.000000</td>\n",
       "      <td>142.950000</td>\n",
       "      <td>118.300000</td>\n",
       "      <td>192.000000</td>\n",
       "      <td>10.200000</td>\n",
       "      <td>1029.400000</td>\n",
       "      <td>824.000000</td>\n",
       "      <td>56.000000</td>\n",
       "      <td>46.135000</td>\n",
       "    </tr>\n",
       "    <tr>\n",
       "      <th>max</th>\n",
       "      <td>540.000000</td>\n",
       "      <td>359.400000</td>\n",
       "      <td>200.100000</td>\n",
       "      <td>247.000000</td>\n",
       "      <td>32.200000</td>\n",
       "      <td>1145.000000</td>\n",
       "      <td>992.600000</td>\n",
       "      <td>365.000000</td>\n",
       "      <td>82.600000</td>\n",
       "    </tr>\n",
       "  </tbody>\n",
       "</table>\n",
       "</div>"
      ],
      "text/plain": [
       "            Cement  Blast Furnace Slag      Fly Ash        Water  \\\n",
       "count  1030.000000         1030.000000  1030.000000  1030.000000   \n",
       "mean    281.167864           73.895825    54.188350   181.567282   \n",
       "std     104.506364           86.279342    63.997004    21.354219   \n",
       "min     102.000000            0.000000     0.000000   121.800000   \n",
       "25%     192.375000            0.000000     0.000000   164.900000   \n",
       "50%     272.900000           22.000000     0.000000   185.000000   \n",
       "75%     350.000000          142.950000   118.300000   192.000000   \n",
       "max     540.000000          359.400000   200.100000   247.000000   \n",
       "\n",
       "       Superplasticizer  Coarse Aggregate  Fine Aggregate          Age  \\\n",
       "count       1030.000000       1030.000000     1030.000000  1030.000000   \n",
       "mean           6.204660        972.918932      773.580485    45.662136   \n",
       "std            5.973841         77.753954       80.175980    63.169912   \n",
       "min            0.000000        801.000000      594.000000     1.000000   \n",
       "25%            0.000000        932.000000      730.950000     7.000000   \n",
       "50%            6.400000        968.000000      779.500000    28.000000   \n",
       "75%           10.200000       1029.400000      824.000000    56.000000   \n",
       "max           32.200000       1145.000000      992.600000   365.000000   \n",
       "\n",
       "          Strength  \n",
       "count  1030.000000  \n",
       "mean     35.817961  \n",
       "std      16.705742  \n",
       "min       2.330000  \n",
       "25%      23.710000  \n",
       "50%      34.445000  \n",
       "75%      46.135000  \n",
       "max      82.600000  "
      ]
     },
     "execution_count": 5,
     "metadata": {},
     "output_type": "execute_result"
    }
   ],
   "source": [
    "data.describe()"
   ]
  },
  {
   "cell_type": "code",
   "execution_count": 6,
   "id": "fe1ef9b4-5feb-4163-9904-85ee20a43dd5",
   "metadata": {
    "tags": []
   },
   "outputs": [
    {
     "data": {
      "text/plain": [
       "Cement                0\n",
       "Blast Furnace Slag    0\n",
       "Fly Ash               0\n",
       "Water                 0\n",
       "Superplasticizer      0\n",
       "Coarse Aggregate      0\n",
       "Fine Aggregate        0\n",
       "Age                   0\n",
       "Strength              0\n",
       "dtype: int64"
      ]
     },
     "execution_count": 6,
     "metadata": {},
     "output_type": "execute_result"
    }
   ],
   "source": [
    "data.isnull().sum()"
   ]
  },
  {
   "cell_type": "markdown",
   "id": "7d016844-e1fd-4a11-8f4b-eb60c5df2cd5",
   "metadata": {},
   "source": [
    "Data has no missing values, we can proceed to building the model"
   ]
  },
  {
   "cell_type": "markdown",
   "id": "44dee06f-1554-4555-82f4-d895a2c89515",
   "metadata": {},
   "source": [
    "#### Randomly Split Data into Training and Test Sets:"
   ]
  },
  {
   "cell_type": "code",
   "execution_count": 7,
   "id": "ac09984e-c01e-4b64-8d02-bf962eb6beaa",
   "metadata": {
    "tags": []
   },
   "outputs": [],
   "source": [
    "# Extract predictor and target variable\n",
    "X = data.drop(\"Strength\", axis=1)\n",
    "y = data[\"Strength\"]"
   ]
  },
  {
   "cell_type": "code",
   "execution_count": 8,
   "id": "d9f564ee-0f18-48c3-bef1-cb8fd79c46bf",
   "metadata": {
    "tags": []
   },
   "outputs": [],
   "source": [
    "X_train, X_test, y_train, y_test = train_test_split(X, y, test_size=0.3, random_state=4)"
   ]
  },
  {
   "cell_type": "markdown",
   "id": "eede1ddb-4339-4732-a105-17b8f4ccb190",
   "metadata": {},
   "source": [
    "#### Build the Neural Network:"
   ]
  },
  {
   "cell_type": "code",
   "execution_count": 9,
   "id": "6a72be22-6a7e-4a5a-bbb7-86399107ed8f",
   "metadata": {
    "tags": []
   },
   "outputs": [],
   "source": [
    "def build_model():\n",
    "    # create model\n",
    "    model = Sequential()\n",
    "    model.add(Dense(10, activation=\"relu\", input_shape=(X_train.shape[1],)))\n",
    "    model.add(Dense(1))\n",
    "    \n",
    "    # compile model\n",
    "    model.compile(loss=\"mean_squared_error\", optimizer='adam')\n",
    "    return model"
   ]
  },
  {
   "cell_type": "markdown",
   "id": "742db020-eb0d-4249-96d1-144851413e38",
   "metadata": {},
   "source": [
    "#### Train the Model and Evaluate 50 Times:"
   ]
  },
  {
   "cell_type": "code",
   "execution_count": 10,
   "id": "5c4bef34-c1b3-4b55-abed-e92989fd9020",
   "metadata": {
    "tags": []
   },
   "outputs": [
    {
     "name": "stdout",
     "output_type": "stream",
     "text": [
      "WARNING:tensorflow:From /home/jupyterlab/conda/envs/python/lib/python3.7/site-packages/keras/backend/tensorflow_backend.py:68: The name tf.get_default_graph is deprecated. Please use tf.compat.v1.get_default_graph instead.\n",
      "\n",
      "WARNING:tensorflow:From /home/jupyterlab/conda/envs/python/lib/python3.7/site-packages/keras/backend/tensorflow_backend.py:508: The name tf.placeholder is deprecated. Please use tf.compat.v1.placeholder instead.\n",
      "\n",
      "WARNING:tensorflow:From /home/jupyterlab/conda/envs/python/lib/python3.7/site-packages/keras/backend/tensorflow_backend.py:3837: The name tf.random_uniform is deprecated. Please use tf.random.uniform instead.\n",
      "\n",
      "WARNING:tensorflow:From /home/jupyterlab/conda/envs/python/lib/python3.7/site-packages/keras/optimizers.py:757: The name tf.train.Optimizer is deprecated. Please use tf.compat.v1.train.Optimizer instead.\n",
      "\n",
      "WARNING:tensorflow:From /home/jupyterlab/conda/envs/python/lib/python3.7/site-packages/keras/backend/tensorflow_backend.py:977: The name tf.assign_add is deprecated. Please use tf.compat.v1.assign_add instead.\n",
      "\n",
      "WARNING:tensorflow:From /home/jupyterlab/conda/envs/python/lib/python3.7/site-packages/keras/backend/tensorflow_backend.py:964: The name tf.assign is deprecated. Please use tf.compat.v1.assign instead.\n",
      "\n"
     ]
    },
    {
     "name": "stderr",
     "output_type": "stream",
     "text": [
      "2024-02-12 16:24:35.570873: I tensorflow/core/platform/cpu_feature_guard.cc:142] Your CPU supports instructions that this TensorFlow binary was not compiled to use: SSE4.1 SSE4.2 AVX AVX2 AVX512F FMA\n",
      "2024-02-12 16:24:35.575711: I tensorflow/core/platform/profile_utils/cpu_utils.cc:94] CPU Frequency: 2394310000 Hz\n",
      "2024-02-12 16:24:35.584503: I tensorflow/compiler/xla/service/service.cc:168] XLA service 0x561bdc7db220 executing computations on platform Host. Devices:\n",
      "2024-02-12 16:24:35.584555: I tensorflow/compiler/xla/service/service.cc:175]   StreamExecutor device (0): <undefined>, <undefined>\n",
      "2024-02-12 16:24:35.650063: W tensorflow/compiler/jit/mark_for_compilation_pass.cc:1412] (One-time warning): Not using XLA:CPU for cluster because envvar TF_XLA_FLAGS=--tf_xla_cpu_global_jit was not set.  If you want XLA:CPU, either set that envvar, or use experimental_jit_scope to enable XLA:CPU.  To confirm that XLA is active, pass --vmodule=xla_compilation_cache=1 (as a proper command-line flag, not via TF_XLA_FLAGS) or set the envvar XLA_FLAGS=--xla_hlo_profile.\n"
     ]
    },
    {
     "name": "stdout",
     "output_type": "stream",
     "text": [
      "Mean Squared Error: 420.927456594935\n",
      "Standard Deviation: 440.34987509162085\n"
     ]
    }
   ],
   "source": [
    "mse_errors = []  # List to store mean squared errors\n",
    "\n",
    "for _ in range(50):\n",
    "    model = build_model()\n",
    "    model.fit(X_train, y_train, epochs=50, verbose=0)  # Set verbose=0 for silent training\n",
    "\n",
    "    y_pred = model.predict(X_test)\n",
    "    mse = mean_squared_error(y_test, y_pred)\n",
    "    mse_errors.append(mse)\n",
    "    \n",
    "    #randomly splitting for next iteration\n",
    "    X_train, X_test, y_train, y_test = train_test_split(X, y, test_size=0.3, random_state=4)\n",
    "\n",
    "print(\"Mean Squared Error:\", np.mean(mse_errors))\n",
    "print(\"Standard Deviation:\", np.std(mse_errors))\n"
   ]
  },
  {
   "cell_type": "markdown",
   "id": "669d7311-78ed-4303-88ed-6b92aca1d25c",
   "metadata": {
    "jp-MarkdownHeadingCollapsed": true,
    "tags": []
   },
   "source": [
    "## Part B - Normalize the data"
   ]
  },
  {
   "cell_type": "code",
   "execution_count": 11,
   "id": "3655f7cd-7285-4d31-aaf7-eb1a6e251973",
   "metadata": {
    "tags": []
   },
   "outputs": [
    {
     "data": {
      "text/html": [
       "<div>\n",
       "<style scoped>\n",
       "    .dataframe tbody tr th:only-of-type {\n",
       "        vertical-align: middle;\n",
       "    }\n",
       "\n",
       "    .dataframe tbody tr th {\n",
       "        vertical-align: top;\n",
       "    }\n",
       "\n",
       "    .dataframe thead th {\n",
       "        text-align: right;\n",
       "    }\n",
       "</style>\n",
       "<table border=\"1\" class=\"dataframe\">\n",
       "  <thead>\n",
       "    <tr style=\"text-align: right;\">\n",
       "      <th></th>\n",
       "      <th>Cement</th>\n",
       "      <th>Blast Furnace Slag</th>\n",
       "      <th>Fly Ash</th>\n",
       "      <th>Water</th>\n",
       "      <th>Superplasticizer</th>\n",
       "      <th>Coarse Aggregate</th>\n",
       "      <th>Fine Aggregate</th>\n",
       "      <th>Age</th>\n",
       "    </tr>\n",
       "  </thead>\n",
       "  <tbody>\n",
       "    <tr>\n",
       "      <th>401</th>\n",
       "      <td>1.792477</td>\n",
       "      <td>-0.842033</td>\n",
       "      <td>-0.853275</td>\n",
       "      <td>-0.934934</td>\n",
       "      <td>0.545015</td>\n",
       "      <td>0.885941</td>\n",
       "      <td>-1.326981</td>\n",
       "      <td>-0.302526</td>\n",
       "    </tr>\n",
       "    <tr>\n",
       "      <th>288</th>\n",
       "      <td>-0.932850</td>\n",
       "      <td>-0.842033</td>\n",
       "      <td>1.737310</td>\n",
       "      <td>-0.578668</td>\n",
       "      <td>0.230955</td>\n",
       "      <td>1.033146</td>\n",
       "      <td>0.066649</td>\n",
       "      <td>0.847751</td>\n",
       "    </tr>\n",
       "    <tr>\n",
       "      <th>406</th>\n",
       "      <td>-1.085082</td>\n",
       "      <td>-0.842033</td>\n",
       "      <td>1.374318</td>\n",
       "      <td>-0.850555</td>\n",
       "      <td>-1.025288</td>\n",
       "      <td>0.398645</td>\n",
       "      <td>1.548133</td>\n",
       "      <td>-0.701928</td>\n",
       "    </tr>\n",
       "    <tr>\n",
       "      <th>945</th>\n",
       "      <td>-1.318072</td>\n",
       "      <td>0.712067</td>\n",
       "      <td>0.749165</td>\n",
       "      <td>0.860457</td>\n",
       "      <td>0.197896</td>\n",
       "      <td>-0.738382</td>\n",
       "      <td>-0.227000</td>\n",
       "      <td>-0.302526</td>\n",
       "    </tr>\n",
       "    <tr>\n",
       "      <th>616</th>\n",
       "      <td>-0.045448</td>\n",
       "      <td>-0.842033</td>\n",
       "      <td>-0.853275</td>\n",
       "      <td>0.424501</td>\n",
       "      <td>-1.025288</td>\n",
       "      <td>-0.078500</td>\n",
       "      <td>1.007770</td>\n",
       "      <td>5.001532</td>\n",
       "    </tr>\n",
       "  </tbody>\n",
       "</table>\n",
       "</div>"
      ],
      "text/plain": [
       "       Cement  Blast Furnace Slag   Fly Ash     Water  Superplasticizer  \\\n",
       "401  1.792477           -0.842033 -0.853275 -0.934934          0.545015   \n",
       "288 -0.932850           -0.842033  1.737310 -0.578668          0.230955   \n",
       "406 -1.085082           -0.842033  1.374318 -0.850555         -1.025288   \n",
       "945 -1.318072            0.712067  0.749165  0.860457          0.197896   \n",
       "616 -0.045448           -0.842033 -0.853275  0.424501         -1.025288   \n",
       "\n",
       "     Coarse Aggregate  Fine Aggregate       Age  \n",
       "401          0.885941       -1.326981 -0.302526  \n",
       "288          1.033146        0.066649  0.847751  \n",
       "406          0.398645        1.548133 -0.701928  \n",
       "945         -0.738382       -0.227000 -0.302526  \n",
       "616         -0.078500        1.007770  5.001532  "
      ]
     },
     "execution_count": 11,
     "metadata": {},
     "output_type": "execute_result"
    }
   ],
   "source": [
    "#Normalizing the data by substracting the mean and dividing by the standard deviation.\n",
    "\n",
    "X_train_norm = (X_train - X_train.mean()) / X_train.std()\n",
    "X_train_norm.head()\n",
    "\n"
   ]
  },
  {
   "cell_type": "code",
   "execution_count": 12,
   "id": "d42e9727-1765-4427-92a4-3ab424c8a1e7",
   "metadata": {
    "tags": []
   },
   "outputs": [
    {
     "data": {
      "text/html": [
       "<div>\n",
       "<style scoped>\n",
       "    .dataframe tbody tr th:only-of-type {\n",
       "        vertical-align: middle;\n",
       "    }\n",
       "\n",
       "    .dataframe tbody tr th {\n",
       "        vertical-align: top;\n",
       "    }\n",
       "\n",
       "    .dataframe thead th {\n",
       "        text-align: right;\n",
       "    }\n",
       "</style>\n",
       "<table border=\"1\" class=\"dataframe\">\n",
       "  <thead>\n",
       "    <tr style=\"text-align: right;\">\n",
       "      <th></th>\n",
       "      <th>Cement</th>\n",
       "      <th>Blast Furnace Slag</th>\n",
       "      <th>Fly Ash</th>\n",
       "      <th>Water</th>\n",
       "      <th>Superplasticizer</th>\n",
       "      <th>Coarse Aggregate</th>\n",
       "      <th>Fine Aggregate</th>\n",
       "      <th>Age</th>\n",
       "    </tr>\n",
       "  </thead>\n",
       "  <tbody>\n",
       "    <tr>\n",
       "      <th>522</th>\n",
       "      <td>0.046854</td>\n",
       "      <td>-0.720173</td>\n",
       "      <td>1.409228</td>\n",
       "      <td>-0.078799</td>\n",
       "      <td>-0.122201</td>\n",
       "      <td>-1.699502</td>\n",
       "      <td>0.333673</td>\n",
       "      <td>0.206369</td>\n",
       "    </tr>\n",
       "    <tr>\n",
       "      <th>701</th>\n",
       "      <td>0.088213</td>\n",
       "      <td>1.281494</td>\n",
       "      <td>-0.830446</td>\n",
       "      <td>0.528287</td>\n",
       "      <td>-1.070083</td>\n",
       "      <td>-0.504189</td>\n",
       "      <td>-0.806759</td>\n",
       "      <td>0.733507</td>\n",
       "    </tr>\n",
       "    <tr>\n",
       "      <th>563</th>\n",
       "      <td>-0.711057</td>\n",
       "      <td>2.684923</td>\n",
       "      <td>-0.830446</td>\n",
       "      <td>0.234084</td>\n",
       "      <td>-1.070083</td>\n",
       "      <td>0.093467</td>\n",
       "      <td>-1.197411</td>\n",
       "      <td>-0.553329</td>\n",
       "    </tr>\n",
       "    <tr>\n",
       "      <th>678</th>\n",
       "      <td>0.088213</td>\n",
       "      <td>1.281494</td>\n",
       "      <td>-0.830446</td>\n",
       "      <td>0.528287</td>\n",
       "      <td>-1.070083</td>\n",
       "      <td>-0.504189</td>\n",
       "      <td>-0.806759</td>\n",
       "      <td>-0.227744</td>\n",
       "    </tr>\n",
       "    <tr>\n",
       "      <th>98</th>\n",
       "      <td>2.021765</td>\n",
       "      <td>0.453686</td>\n",
       "      <td>-0.830446</td>\n",
       "      <td>0.019269</td>\n",
       "      <td>0.463762</td>\n",
       "      <td>-1.565362</td>\n",
       "      <td>0.066384</td>\n",
       "      <td>-0.553329</td>\n",
       "    </tr>\n",
       "  </tbody>\n",
       "</table>\n",
       "</div>"
      ],
      "text/plain": [
       "       Cement  Blast Furnace Slag   Fly Ash     Water  Superplasticizer  \\\n",
       "522  0.046854           -0.720173  1.409228 -0.078799         -0.122201   \n",
       "701  0.088213            1.281494 -0.830446  0.528287         -1.070083   \n",
       "563 -0.711057            2.684923 -0.830446  0.234084         -1.070083   \n",
       "678  0.088213            1.281494 -0.830446  0.528287         -1.070083   \n",
       "98   2.021765            0.453686 -0.830446  0.019269          0.463762   \n",
       "\n",
       "     Coarse Aggregate  Fine Aggregate       Age  \n",
       "522         -1.699502        0.333673  0.206369  \n",
       "701         -0.504189       -0.806759  0.733507  \n",
       "563          0.093467       -1.197411 -0.553329  \n",
       "678         -0.504189       -0.806759 -0.227744  \n",
       "98          -1.565362        0.066384 -0.553329  "
      ]
     },
     "execution_count": 12,
     "metadata": {},
     "output_type": "execute_result"
    }
   ],
   "source": [
    "#Normalizing the test data by substracting the mean and dividing by the standard deviation.\n",
    "X_test_norm = (X_test - X_test.mean()) / X_test.std()\n",
    "X_test_norm.head()"
   ]
  },
  {
   "cell_type": "markdown",
   "id": "e88e2523-f3ec-4d32-82f1-19b0a054583d",
   "metadata": {},
   "source": [
    "#### Training and building model with normalized data:"
   ]
  },
  {
   "cell_type": "code",
   "execution_count": 13,
   "id": "27416a82-ffff-4e00-b479-fb9ec44f3b6d",
   "metadata": {
    "tags": []
   },
   "outputs": [],
   "source": [
    "def build_model_2():\n",
    "    # create model\n",
    "    model = Sequential()\n",
    "    model.add(Dense(10, activation=\"relu\", input_shape=(X_train_norm.shape[1],)))\n",
    "    model.add(Dense(1))\n",
    "    \n",
    "    # compile model\n",
    "    model.compile(loss=\"mean_squared_error\", optimizer='adam')\n",
    "    return model"
   ]
  },
  {
   "cell_type": "code",
   "execution_count": 14,
   "id": "72a32551-a378-4763-a4b4-3aa7c1110e05",
   "metadata": {
    "tags": []
   },
   "outputs": [
    {
     "name": "stdout",
     "output_type": "stream",
     "text": [
      "Mean Squared Error (Normalized): 1483.4720245659698\n",
      "Standard Deviation (Normalized): 2.2737367544323206e-13\n"
     ]
    }
   ],
   "source": [
    "mse_errors_norm = []\n",
    "\n",
    "for _ in range(50):\n",
    "    model2 = build_model_2()\n",
    "    model2.fit(X_train_norm, y_train, epochs=50, verbose=0)\n",
    "\n",
    "    y_pred = model.predict(X_test_norm)\n",
    "    mse = mean_squared_error(y_test, y_pred)\n",
    "    mse_errors_norm.append(mse)\n",
    "    \n",
    "    # randomly splitting for next iteration\n",
    "    X_train, X_test, y_train, y_test = train_test_split(X, y, test_size=0.3, random_state=4)\n",
    "    \n",
    "    # Normalizing the data by substracting the mean and dividing by the standard deviation for next iteration.\n",
    "\n",
    "    X_train_norm = (X_train - X_train.mean()) / X_train.std()\n",
    "    \n",
    "    \n",
    "    # Normalizing the test data by substracting the mean and dividing by the standard deviation for next iteration.\n",
    "    X_test_norm = (X_test - X_test.mean()) / X_test.std()\n",
    "    \n",
    "\n",
    "print(\"Mean Squared Error (Normalized):\", np.mean(mse_errors_norm))\n",
    "print(\"Standard Deviation (Normalized):\", np.std(mse_errors_norm))"
   ]
  },
  {
   "cell_type": "code",
   "execution_count": 15,
   "id": "892c7542-d9d7-423e-b224-4911f96035fd",
   "metadata": {
    "tags": []
   },
   "outputs": [
    {
     "name": "stdout",
     "output_type": "stream",
     "text": [
      "Difference between Part A and Part B:  -1062.544567971035\n"
     ]
    }
   ],
   "source": [
    "#Comparing MSE from Part A:\n",
    "print(\"Difference between Part A and Part B: \", np.mean(mse_errors) - np.mean(mse_errors_norm))"
   ]
  },
  {
   "cell_type": "markdown",
   "id": "1f391146-e60f-43d5-9b7b-d6b90e6f9baa",
   "metadata": {},
   "source": []
  },
  {
   "cell_type": "markdown",
   "id": "341ac084-c895-468a-836d-3fab3e103812",
   "metadata": {
    "tags": []
   },
   "source": [
    "## Part C - Increase the number of epochs\n"
   ]
  },
  {
   "cell_type": "code",
   "execution_count": 16,
   "id": "b586333d-47a3-40db-99e2-4f2ab3adf521",
   "metadata": {
    "tags": []
   },
   "outputs": [
    {
     "name": "stdout",
     "output_type": "stream",
     "text": [
      "Mean Squared Error (100 Epochs): 1483.4720245659698\n",
      "Standard Deviation (100 Epochs): 2.2737367544323206e-13\n"
     ]
    }
   ],
   "source": [
    "mse_errors_100 = []\n",
    "\n",
    "for _ in range(50):\n",
    "    model3 = build_model_2()\n",
    "    model3.fit(X_train_norm, y_train, epochs=100, verbose=0)  # Increase epochs to 100\n",
    "\n",
    "    y_pred = model.predict(X_test_norm)\n",
    "    mse = mean_squared_error(y_test, y_pred)\n",
    "    mse_errors_100.append(mse)\n",
    "    \n",
    "    # randomly splitting for next iteration\n",
    "    X_train, X_test, y_train, y_test = train_test_split(X, y, test_size=0.3, random_state=4)\n",
    "    \n",
    "    # Normalizing the data by substracting the mean and dividing by the standard deviation for next iteration.\n",
    "\n",
    "    X_train_norm = (X_train - X_train.mean()) / X_train.std()\n",
    "    \n",
    "    # Normalizing the test data by substracting the mean and dividing by the standard deviation for next iteration.\n",
    "    X_test_norm = (X_test - X_test.mean()) / X_test.std()\n",
    "\n",
    "\n",
    "print(\"Mean Squared Error (100 Epochs):\", np.mean(mse_errors_100))\n",
    "print(\"Standard Deviation (100 Epochs):\", np.std(mse_errors_100))"
   ]
  },
  {
   "cell_type": "code",
   "execution_count": 17,
   "id": "56468b56-b9a1-4975-90ff-39f1513bf6df",
   "metadata": {
    "tags": []
   },
   "outputs": [
    {
     "name": "stdout",
     "output_type": "stream",
     "text": [
      "Difference between Part B and Part C:  0.0\n"
     ]
    }
   ],
   "source": [
    "#Comparing MSE from Part B:\n",
    "print(\"Difference between Part B and Part C: \", np.mean(mse_errors_norm) - np.mean(mse_errors_100))"
   ]
  },
  {
   "cell_type": "markdown",
   "id": "67431cd8-1392-4c53-b39a-77e1e93d4b95",
   "metadata": {},
   "source": [
    "We can see that the MSE is same for both"
   ]
  },
  {
   "cell_type": "markdown",
   "id": "665f9460-7f9e-44d7-bf7e-25437b103f00",
   "metadata": {
    "tags": []
   },
   "source": [
    "## Part D - Increase the number of hidden layers \n"
   ]
  },
  {
   "cell_type": "code",
   "execution_count": 18,
   "id": "dc9d23d1-5e19-4fdc-83fc-e78146e0ff6d",
   "metadata": {
    "tags": []
   },
   "outputs": [],
   "source": [
    "def build_model_3():\n",
    "    # create model\n",
    "    model = Sequential()\n",
    "    model.add(Dense(10, activation=\"relu\", input_shape=(X_train_norm.shape[1],)))\n",
    "    model.add(Dense(10, activation=\"relu\"))  # Add second hidden layer\n",
    "    model.add(Dense(10, activation=\"relu\"))  # Add third hidden layer\n",
    "    model.add(Dense(1))\n",
    "    \n",
    "    # compile model\n",
    "    model.compile(loss=\"mean_squared_error\", optimizer='adam')\n",
    "    return model\n"
   ]
  },
  {
   "cell_type": "code",
   "execution_count": 19,
   "id": "66d72d48-6fea-4903-871a-27bdbabeca4b",
   "metadata": {
    "tags": []
   },
   "outputs": [
    {
     "name": "stdout",
     "output_type": "stream",
     "text": [
      "Mean Squared Error (3 Layers): 106.54008052566166\n",
      "Standard Deviation (3 Layers): 22.696068386582272\n"
     ]
    }
   ],
   "source": [
    "mse_errors_3layer = []\n",
    "\n",
    "for _ in range(50):\n",
    "    model = build_model_3()\n",
    "    model.fit(X_train_norm, y_train, epochs=100, verbose=0)\n",
    "\n",
    "    y_pred = model.predict(X_test_norm)\n",
    "    mse = mean_squared_error(y_test, y_pred)\n",
    "    mse_errors_3layer.append(mse)\n",
    "    \n",
    "    # randomly splitting for next iteration\n",
    "    X_train, X_test, y_train, y_test = train_test_split(X, y, test_size=0.3, random_state=4)\n",
    "    \n",
    "    # Normalizing the data by substracting the mean and dividing by the standard deviation for next iteration.\n",
    "\n",
    "    X_train_norm = (X_train - X_train.mean()) / X_train.std()\n",
    "    \n",
    "    # Normalizing the test data by substracting the mean and dividing by the standard deviation for next iteration.\n",
    "    X_test_norm = (X_test - X_test.mean()) / X_test.std()\n",
    "    \n",
    "\n",
    "print(\"Mean Squared Error (3 Layers):\", np.mean(mse_errors_3layer))\n",
    "print(\"Standard Deviation (3 Layers):\", np.std(mse_errors_3layer))"
   ]
  },
  {
   "cell_type": "code",
   "execution_count": 20,
   "id": "d8e22018-296e-4702-9a50-c68dd3df74b5",
   "metadata": {
    "tags": []
   },
   "outputs": [
    {
     "name": "stdout",
     "output_type": "stream",
     "text": [
      "Difference between Part B and Part D:  1376.9319440403083\n"
     ]
    }
   ],
   "source": [
    "#Comparing MSE from Part B:\n",
    "print(\"Difference between Part B and Part D: \", np.mean(mse_errors_norm) - np.mean(mse_errors_3layer))"
   ]
  },
  {
   "cell_type": "markdown",
   "id": "04ab89bc-decf-44a3-8ea1-92f1c569c80f",
   "metadata": {},
   "source": [
    "We can see that there is a big difference as compared to Part B"
   ]
  },
  {
   "cell_type": "code",
   "execution_count": null,
   "id": "94e8f2e2-99c2-476d-948e-48da9f3ae114",
   "metadata": {},
   "outputs": [],
   "source": []
  }
 ],
 "metadata": {
  "kernelspec": {
   "display_name": "Python",
   "language": "python",
   "name": "conda-env-python-py"
  },
  "language_info": {
   "codemirror_mode": {
    "name": "ipython",
    "version": 3
   },
   "file_extension": ".py",
   "mimetype": "text/x-python",
   "name": "python",
   "nbconvert_exporter": "python",
   "pygments_lexer": "ipython3",
   "version": "3.7.12"
  }
 },
 "nbformat": 4,
 "nbformat_minor": 5
}
